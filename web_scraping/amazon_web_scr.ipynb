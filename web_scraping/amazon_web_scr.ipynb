{
 "cells": [
  {
   "cell_type": "code",
   "execution_count": 1,
   "id": "2961b65b-0455-41e5-a609-16b7fa431382",
   "metadata": {},
   "outputs": [],
   "source": [
    "# importing necessery pakages for scraping\n",
    "import pandas as pd\n",
    "from bs4 import BeautifulSoup\n",
    "import requests\n",
    "import time\n",
    "import datetime\n",
    "import csv"
   ]
  },
  {
   "cell_type": "code",
   "execution_count": 7,
   "id": "ee99081b-89b5-443e-b7ad-e0ec8ea19282",
   "metadata": {},
   "outputs": [
    {
     "name": "stdout",
     "output_type": "stream",
     "text": [
      "Samsung 990 Pro W/ Heatsink Ssd 2Tb Pcie 4.0 M.2 Internal Solid State Hard Drive, Fastest Speed For Gaming, Heat Control, Direct Storage And Memory Expansion, Compatible W/ Playstation5, Mz-V9P2T0Cw\n",
      "4.8\n",
      "$146.50\n"
     ]
    }
   ],
   "source": [
    "# product url\n",
    "url = 'https://www.amazon.com/SAMSUNG-Expansion-Compatible-Playstation5-MZ-V9P2T0CW/dp/B0BHJDY57J/ref=pd_rhf_d_gw_s_gcx-rhf_sccl_1_14/145-5438027-4110648?pd_rd_w=yfqhD&content-id=amzn1.sym.2ae4ccb1-7034-4114-8654-5ba995870d70&pf_rd_p=2ae4ccb1-7034-4114-8654-5ba995870d70&pf_rd_r=9ECKVDWMFE036X4TG78C&pd_rd_wg=Gvk95&pd_rd_r=456af690-1213-4e6d-a4bf-9612b694b21c&pd_rd_i=B0BHJDY57J&th=1'\n",
    "# need to get my machine specific settings and empty bin for html from httpbin.org/get\n",
    "headers = {\"User-Agent\": \"Mozilla/5.0 (X11; Linux x86_64) AppleWebKit/537.36 (KHTML, like Gecko) Chrome/117.0.0.0 Safari/537.36 Edg/117.0.2045.35\", \"Accept-Encoding\":\"gzip, deflate\", \"Accept\":\"text/html,application/xhtml+xml,application/xml;q=0.9,*/*;q=0.8\", \"DNT\":\"1\",\"Connection\":\"close\", \"Upgrade-Insecure-Requests\":\"1\"}\n",
    "# creating url object\n",
    "page = requests.get(url, headers=headers)\n",
    "\n",
    "# getting html and prettifying it for further understanding/view\n",
    "bs1 = BeautifulSoup(page.content, 'html.parser')\n",
    "bs2 = BeautifulSoup(bs1.prettify(), 'html.parser')\n",
    "#getting product name price & rating\n",
    "p_name = bs2.find(id='productTitle').get_text()\n",
    "p_price = bs2.find(id='corePrice_feature_div').get_text()\n",
    "p_rating = bs2.find(id='averageCustomerReviews_feature_div').get_text()\n",
    "\n",
    "# now format imported data to remove spacese and getting it in title form\n",
    "p_name = p_name.title().strip()\n",
    "# getting specific range of values in price\n",
    "p_price = p_price.strip()[0:7]\n",
    "# just getting rating values only\n",
    "p_rating = p_rating.strip()[0:3]\n",
    "\n",
    "\n",
    "\n",
    "print(p_name)\n",
    "print(p_rating)\n",
    "print(p_price)\n"
   ]
  },
  {
   "cell_type": "code",
   "execution_count": 10,
   "id": "11d5cbbf-aaa9-48c3-9960-3435425e9069",
   "metadata": {},
   "outputs": [],
   "source": [
    "# getting date\n",
    "today = datetime.date.today()\n",
    "#headers for df\n",
    "header = ['Title', 'Price', 'Date']\n",
    "data = [p_name, p_price, today]\n",
    "\n",
    "# open and edit file\n",
    "with open('samsung_ssd_webscrap.csv', 'w', newline='', encoding='UTF8') as f:\n",
    "    writer = csv.writer(f)\n",
    "    writer.writerow(header)\n",
    "    writer.writerow(data)"
   ]
  },
  {
   "cell_type": "code",
   "execution_count": 11,
   "id": "cad38f6c-0b87-4fc3-b81f-5a1a5804cfbb",
   "metadata": {},
   "outputs": [
    {
     "data": {
      "text/html": [
       "<div>\n",
       "<style scoped>\n",
       "    .dataframe tbody tr th:only-of-type {\n",
       "        vertical-align: middle;\n",
       "    }\n",
       "\n",
       "    .dataframe tbody tr th {\n",
       "        vertical-align: top;\n",
       "    }\n",
       "\n",
       "    .dataframe thead th {\n",
       "        text-align: right;\n",
       "    }\n",
       "</style>\n",
       "<table border=\"1\" class=\"dataframe\">\n",
       "  <thead>\n",
       "    <tr style=\"text-align: right;\">\n",
       "      <th></th>\n",
       "      <th>Title</th>\n",
       "      <th>Price</th>\n",
       "      <th>Date</th>\n",
       "    </tr>\n",
       "  </thead>\n",
       "  <tbody>\n",
       "    <tr>\n",
       "      <th>0</th>\n",
       "      <td>Samsung 990 Pro W/ Heatsink Ssd 2Tb Pcie 4.0 M...</td>\n",
       "      <td>$146.50</td>\n",
       "      <td>2023-09-23</td>\n",
       "    </tr>\n",
       "  </tbody>\n",
       "</table>\n",
       "</div>"
      ],
      "text/plain": [
       "                                               Title    Price        Date\n",
       "0  Samsung 990 Pro W/ Heatsink Ssd 2Tb Pcie 4.0 M...  $146.50  2023-09-23"
      ]
     },
     "execution_count": 11,
     "metadata": {},
     "output_type": "execute_result"
    }
   ],
   "source": [
    "# getting into df form, pretifying results of 2nd code cell\n",
    "df = pd.read_csv(r'samsung_ssd_webscrap.csv')\n",
    "df.head()"
   ]
  },
  {
   "cell_type": "code",
   "execution_count": 12,
   "id": "194179f7-7b3d-45aa-a64b-170ece2b871c",
   "metadata": {},
   "outputs": [],
   "source": [
    "# appinding data to samsung_ssd_webscrap.csv\n",
    "# running this cell will save current price into csv file\n",
    "with open('samsung_ssd_webscrap.csv', 'a+', newline='', encoding='UTF8') as f:\n",
    "    writer = csv.writer(f)\n",
    "    writer.writerow(data)"
   ]
  },
  {
   "cell_type": "code",
   "execution_count": null,
   "id": "c35b5ae8-244d-4145-8cc6-4516503fa44e",
   "metadata": {},
   "outputs": [],
   "source": []
  }
 ],
 "metadata": {
  "kernelspec": {
   "display_name": "Python 3 (ipykernel)",
   "language": "python",
   "name": "python3"
  },
  "language_info": {
   "codemirror_mode": {
    "name": "ipython",
    "version": 3
   },
   "file_extension": ".py",
   "mimetype": "text/x-python",
   "name": "python",
   "nbconvert_exporter": "python",
   "pygments_lexer": "ipython3",
   "version": "3.8.17"
  }
 },
 "nbformat": 4,
 "nbformat_minor": 5
}
